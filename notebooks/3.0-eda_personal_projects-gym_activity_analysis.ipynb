{
 "cells": [
  {
   "cell_type": "markdown",
   "metadata": {},
   "source": [
    "# Análisis: Gym Activity"
   ]
  },
  {
   "cell_type": "markdown",
   "metadata": {},
   "source": [
    "- Data Sources: https://www.kaggle.com/datasets/mexwell/gym-check-ins-and-user-metadata/data\n",
    "\n",
    "\"_Gym Activity_\" es un proyecto de análisis de datos donde se utilizan cuatro datasets diferentes, en los cuáles encontramos datos de usuarios, tipos de planes, ubicación de los gimnasios y el historia de entrada y salida de los usuarios a su respectivo gym.\n",
    "\n",
    "Para el objetivo de este análisis se crean dos datasets a partir de los datos originales, ésto nos permitirá divir el análisis en las siguientes partes:\n",
    "1. Demografía de usuarios\n",
    "    - Distribución de las edades de los usuarios.\n",
    "    - En que rango de edad se encuentran el mayor número de usuarios.\n",
    "    - Proporción de usuarios por género.\n",
    "2. Subscripciones favoritas por los usuarios\n",
    "    - Cuál es la subscripción más vendida según la edad de los usuarios.\n",
    "    - Cuál es la distribución de las subscripciones en base al genero de los usuarios."
   ]
  },
  {
   "cell_type": "markdown",
   "metadata": {},
   "source": [
    "**Librerías**"
   ]
  },
  {
   "cell_type": "code",
   "execution_count": 1,
   "metadata": {},
   "outputs": [],
   "source": [
    "%load_ext autoreload\n",
    "%autoreload 2"
   ]
  },
  {
   "cell_type": "code",
   "execution_count": 2,
   "metadata": {
    "notebookRunGroups": {
     "groupValue": "1"
    }
   },
   "outputs": [],
   "source": [
    "import pandas as pd\n",
    "import matplotlib.pyplot as plt\n",
    "import matplotlib.ticker  as ticker\n",
    "import seaborn as sns\n",
    "import sys\n",
    "\n",
    "sys.path.append(\"..\")\n",
    "\n",
    "import modules.utils.paths as path\n",
    "\n",
    "money_formatter = ticker.StrMethodFormatter(\"${x:,.0f}\")\n",
    "quantity_formatter = ticker.StrMethodFormatter(\"{x:,.0f}\")"
   ]
  },
  {
   "cell_type": "markdown",
   "metadata": {},
   "source": [
    "## Carga de datos"
   ]
  },
  {
   "cell_type": "code",
   "execution_count": 3,
   "metadata": {},
   "outputs": [],
   "source": [
    "users_df = pd.read_csv(path.data_raw_dir(\"users_data.csv\"))\n",
    "plans_df = pd.read_csv(path.data_raw_dir(\"subscription_plans.csv\"))\n",
    "locations_df = pd.read_csv(path.data_raw_dir(\"gym_locations_data.csv\"))\n",
    "checkins_df = pd.read_csv(path.data_raw_dir(\"checkin_checkout_history_updated.csv\"))"
   ]
  },
  {
   "cell_type": "code",
   "execution_count": 4,
   "metadata": {},
   "outputs": [
    {
     "data": {
      "text/plain": [
       "'users_df: (5000, 9)'"
      ]
     },
     "metadata": {},
     "output_type": "display_data"
    },
    {
     "data": {
      "text/html": [
       "<div>\n",
       "<style scoped>\n",
       "    .dataframe tbody tr th:only-of-type {\n",
       "        vertical-align: middle;\n",
       "    }\n",
       "\n",
       "    .dataframe tbody tr th {\n",
       "        vertical-align: top;\n",
       "    }\n",
       "\n",
       "    .dataframe thead th {\n",
       "        text-align: right;\n",
       "    }\n",
       "</style>\n",
       "<table border=\"1\" class=\"dataframe\">\n",
       "  <thead>\n",
       "    <tr style=\"text-align: right;\">\n",
       "      <th></th>\n",
       "      <th>user_id</th>\n",
       "      <th>first_name</th>\n",
       "      <th>last_name</th>\n",
       "      <th>age</th>\n",
       "      <th>gender</th>\n",
       "      <th>birthdate</th>\n",
       "      <th>sign_up_date</th>\n",
       "      <th>user_location</th>\n",
       "      <th>subscription_plan</th>\n",
       "    </tr>\n",
       "  </thead>\n",
       "  <tbody>\n",
       "    <tr>\n",
       "      <th>0</th>\n",
       "      <td>user_1</td>\n",
       "      <td>Chris</td>\n",
       "      <td>Wilson</td>\n",
       "      <td>56</td>\n",
       "      <td>Female</td>\n",
       "      <td>2000-02-29</td>\n",
       "      <td>2023-02-06</td>\n",
       "      <td>Denver</td>\n",
       "      <td>Basic</td>\n",
       "    </tr>\n",
       "    <tr>\n",
       "      <th>1</th>\n",
       "      <td>user_2</td>\n",
       "      <td>Michael</td>\n",
       "      <td>Miller</td>\n",
       "      <td>46</td>\n",
       "      <td>Non-binary</td>\n",
       "      <td>1978-12-22</td>\n",
       "      <td>2023-08-08</td>\n",
       "      <td>Orlando</td>\n",
       "      <td>Pro</td>\n",
       "    </tr>\n",
       "    <tr>\n",
       "      <th>2</th>\n",
       "      <td>user_3</td>\n",
       "      <td>Daniel</td>\n",
       "      <td>Smith</td>\n",
       "      <td>32</td>\n",
       "      <td>Female</td>\n",
       "      <td>1962-08-30</td>\n",
       "      <td>2021-01-11</td>\n",
       "      <td>Orlando</td>\n",
       "      <td>Basic</td>\n",
       "    </tr>\n",
       "  </tbody>\n",
       "</table>\n",
       "</div>"
      ],
      "text/plain": [
       "  user_id first_name last_name  age      gender   birthdate sign_up_date  \\\n",
       "0  user_1      Chris    Wilson   56      Female  2000-02-29   2023-02-06   \n",
       "1  user_2    Michael    Miller   46  Non-binary  1978-12-22   2023-08-08   \n",
       "2  user_3     Daniel     Smith   32      Female  1962-08-30   2021-01-11   \n",
       "\n",
       "  user_location subscription_plan  \n",
       "0        Denver             Basic  \n",
       "1       Orlando               Pro  \n",
       "2       Orlando             Basic  "
      ]
     },
     "metadata": {},
     "output_type": "display_data"
    },
    {
     "data": {
      "text/plain": [
       "'plans_df: (3, 3)'"
      ]
     },
     "metadata": {},
     "output_type": "display_data"
    },
    {
     "data": {
      "text/html": [
       "<div>\n",
       "<style scoped>\n",
       "    .dataframe tbody tr th:only-of-type {\n",
       "        vertical-align: middle;\n",
       "    }\n",
       "\n",
       "    .dataframe tbody tr th {\n",
       "        vertical-align: top;\n",
       "    }\n",
       "\n",
       "    .dataframe thead th {\n",
       "        text-align: right;\n",
       "    }\n",
       "</style>\n",
       "<table border=\"1\" class=\"dataframe\">\n",
       "  <thead>\n",
       "    <tr style=\"text-align: right;\">\n",
       "      <th></th>\n",
       "      <th>subscription_plan</th>\n",
       "      <th>price_per_month</th>\n",
       "      <th>features</th>\n",
       "    </tr>\n",
       "  </thead>\n",
       "  <tbody>\n",
       "    <tr>\n",
       "      <th>0</th>\n",
       "      <td>Basic</td>\n",
       "      <td>19.99</td>\n",
       "      <td>Access to basic gym facilities, Limited class ...</td>\n",
       "    </tr>\n",
       "    <tr>\n",
       "      <th>1</th>\n",
       "      <td>Pro</td>\n",
       "      <td>49.99</td>\n",
       "      <td>Access to all facilities, Unlimited class acce...</td>\n",
       "    </tr>\n",
       "    <tr>\n",
       "      <th>2</th>\n",
       "      <td>Student</td>\n",
       "      <td>9.99</td>\n",
       "      <td>Access to basic facilities, Limited class acce...</td>\n",
       "    </tr>\n",
       "  </tbody>\n",
       "</table>\n",
       "</div>"
      ],
      "text/plain": [
       "  subscription_plan  price_per_month  \\\n",
       "0             Basic            19.99   \n",
       "1               Pro            49.99   \n",
       "2           Student             9.99   \n",
       "\n",
       "                                            features  \n",
       "0  Access to basic gym facilities, Limited class ...  \n",
       "1  Access to all facilities, Unlimited class acce...  \n",
       "2  Access to basic facilities, Limited class acce...  "
      ]
     },
     "metadata": {},
     "output_type": "display_data"
    },
    {
     "data": {
      "text/plain": [
       "'locations_df: (10, 4)'"
      ]
     },
     "metadata": {},
     "output_type": "display_data"
    },
    {
     "data": {
      "text/html": [
       "<div>\n",
       "<style scoped>\n",
       "    .dataframe tbody tr th:only-of-type {\n",
       "        vertical-align: middle;\n",
       "    }\n",
       "\n",
       "    .dataframe tbody tr th {\n",
       "        vertical-align: top;\n",
       "    }\n",
       "\n",
       "    .dataframe thead th {\n",
       "        text-align: right;\n",
       "    }\n",
       "</style>\n",
       "<table border=\"1\" class=\"dataframe\">\n",
       "  <thead>\n",
       "    <tr style=\"text-align: right;\">\n",
       "      <th></th>\n",
       "      <th>gym_id</th>\n",
       "      <th>location</th>\n",
       "      <th>gym_type</th>\n",
       "      <th>facilities</th>\n",
       "    </tr>\n",
       "  </thead>\n",
       "  <tbody>\n",
       "    <tr>\n",
       "      <th>0</th>\n",
       "      <td>gym_1</td>\n",
       "      <td>New York</td>\n",
       "      <td>Premium</td>\n",
       "      <td>Climbing Wall, Swimming Pool, Basketball Court</td>\n",
       "    </tr>\n",
       "    <tr>\n",
       "      <th>1</th>\n",
       "      <td>gym_2</td>\n",
       "      <td>Los Angeles</td>\n",
       "      <td>Budget</td>\n",
       "      <td>Climbing Wall, Yoga Classes, Sauna</td>\n",
       "    </tr>\n",
       "    <tr>\n",
       "      <th>2</th>\n",
       "      <td>gym_3</td>\n",
       "      <td>Chicago</td>\n",
       "      <td>Budget</td>\n",
       "      <td>Sauna, Climbing Wall, Swimming Pool</td>\n",
       "    </tr>\n",
       "  </tbody>\n",
       "</table>\n",
       "</div>"
      ],
      "text/plain": [
       "  gym_id     location gym_type                                      facilities\n",
       "0  gym_1     New York  Premium  Climbing Wall, Swimming Pool, Basketball Court\n",
       "1  gym_2  Los Angeles   Budget              Climbing Wall, Yoga Classes, Sauna\n",
       "2  gym_3      Chicago   Budget             Sauna, Climbing Wall, Swimming Pool"
      ]
     },
     "metadata": {},
     "output_type": "display_data"
    },
    {
     "data": {
      "text/plain": [
       "'checkins_df: (300000, 6)'"
      ]
     },
     "metadata": {},
     "output_type": "display_data"
    },
    {
     "data": {
      "text/html": [
       "<div>\n",
       "<style scoped>\n",
       "    .dataframe tbody tr th:only-of-type {\n",
       "        vertical-align: middle;\n",
       "    }\n",
       "\n",
       "    .dataframe tbody tr th {\n",
       "        vertical-align: top;\n",
       "    }\n",
       "\n",
       "    .dataframe thead th {\n",
       "        text-align: right;\n",
       "    }\n",
       "</style>\n",
       "<table border=\"1\" class=\"dataframe\">\n",
       "  <thead>\n",
       "    <tr style=\"text-align: right;\">\n",
       "      <th></th>\n",
       "      <th>user_id</th>\n",
       "      <th>gym_id</th>\n",
       "      <th>checkin_time</th>\n",
       "      <th>checkout_time</th>\n",
       "      <th>workout_type</th>\n",
       "      <th>calories_burned</th>\n",
       "    </tr>\n",
       "  </thead>\n",
       "  <tbody>\n",
       "    <tr>\n",
       "      <th>0</th>\n",
       "      <td>user_3291</td>\n",
       "      <td>gym_6</td>\n",
       "      <td>2023-09-10 15:55:00</td>\n",
       "      <td>2023-09-10 16:34:00</td>\n",
       "      <td>Weightlifting</td>\n",
       "      <td>462</td>\n",
       "    </tr>\n",
       "    <tr>\n",
       "      <th>1</th>\n",
       "      <td>user_1944</td>\n",
       "      <td>gym_2</td>\n",
       "      <td>2023-04-13 20:07:00</td>\n",
       "      <td>2023-04-13 22:43:00</td>\n",
       "      <td>Yoga</td>\n",
       "      <td>1278</td>\n",
       "    </tr>\n",
       "    <tr>\n",
       "      <th>2</th>\n",
       "      <td>user_958</td>\n",
       "      <td>gym_7</td>\n",
       "      <td>2023-06-10 12:24:00</td>\n",
       "      <td>2023-06-10 13:49:00</td>\n",
       "      <td>Cardio</td>\n",
       "      <td>858</td>\n",
       "    </tr>\n",
       "  </tbody>\n",
       "</table>\n",
       "</div>"
      ],
      "text/plain": [
       "     user_id gym_id         checkin_time        checkout_time   workout_type  \\\n",
       "0  user_3291  gym_6  2023-09-10 15:55:00  2023-09-10 16:34:00  Weightlifting   \n",
       "1  user_1944  gym_2  2023-04-13 20:07:00  2023-04-13 22:43:00           Yoga   \n",
       "2   user_958  gym_7  2023-06-10 12:24:00  2023-06-10 13:49:00         Cardio   \n",
       "\n",
       "   calories_burned  \n",
       "0              462  \n",
       "1             1278  \n",
       "2              858  "
      ]
     },
     "metadata": {},
     "output_type": "display_data"
    }
   ],
   "source": [
    "display(\n",
    "  \n",
    "  f\"users_df: {users_df.shape}\",\n",
    "  users_df.head(3),\n",
    "  f\"plans_df: {plans_df.shape}\",\n",
    "  plans_df.head(3),\n",
    "  f\"locations_df: {locations_df.shape}\",\n",
    "  locations_df.head(3),\n",
    "  f\"checkins_df: {checkins_df.shape}\",\n",
    "  checkins_df.head(3),\n",
    ")"
   ]
  },
  {
   "cell_type": "markdown",
   "metadata": {},
   "source": [
    "## Validación de datos"
   ]
  },
  {
   "cell_type": "markdown",
   "metadata": {},
   "source": [
    "Tipo de datos de las variables de cada dataset "
   ]
  },
  {
   "cell_type": "code",
   "execution_count": 5,
   "metadata": {},
   "outputs": [
    {
     "name": "stdout",
     "output_type": "stream",
     "text": [
      "Tipo de datos en users:\n",
      "user_id              object\n",
      "first_name           object\n",
      "last_name            object\n",
      "age                   int64\n",
      "gender               object\n",
      "birthdate            object\n",
      "sign_up_date         object\n",
      "user_location        object\n",
      "subscription_plan    object\n",
      "dtype: object\n",
      "==============================\n",
      "object    8\n",
      "int64     1\n",
      "dtype: int64\n"
     ]
    }
   ],
   "source": [
    "# Tipos de datos de cada dataset\n",
    "print(\"Tipo de datos en users:\")\n",
    "print(users_df.dtypes)\n",
    "print(\"=\"*30)\n",
    "print(users_df.dtypes.value_counts())"
   ]
  },
  {
   "cell_type": "code",
   "execution_count": 6,
   "metadata": {},
   "outputs": [
    {
     "name": "stdout",
     "output_type": "stream",
     "text": [
      "Tipo de datos en subscription plans:\n",
      "subscription_plan     object\n",
      "price_per_month      float64\n",
      "features              object\n",
      "dtype: object\n",
      "==============================\n",
      "object     2\n",
      "float64    1\n",
      "dtype: int64\n"
     ]
    }
   ],
   "source": [
    "print(\"Tipo de datos en subscription plans:\")\n",
    "print(plans_df.dtypes)\n",
    "print(\"=\"*30)\n",
    "print(plans_df.dtypes.value_counts())"
   ]
  },
  {
   "cell_type": "code",
   "execution_count": 7,
   "metadata": {},
   "outputs": [
    {
     "name": "stdout",
     "output_type": "stream",
     "text": [
      "Tipo de datos en gym locations:\n",
      "gym_id        object\n",
      "location      object\n",
      "gym_type      object\n",
      "facilities    object\n",
      "dtype: object\n",
      "==============================\n",
      "object    4\n",
      "dtype: int64\n"
     ]
    }
   ],
   "source": [
    "print(\"Tipo de datos en gym locations:\")\n",
    "print(locations_df.dtypes)\n",
    "print(\"=\"*30)\n",
    "print(locations_df.dtypes.value_counts())"
   ]
  },
  {
   "cell_type": "code",
   "execution_count": 8,
   "metadata": {},
   "outputs": [
    {
     "name": "stdout",
     "output_type": "stream",
     "text": [
      "Tipo de datos en checkin-checkout history:\n",
      "user_id            object\n",
      "gym_id             object\n",
      "checkin_time       object\n",
      "checkout_time      object\n",
      "workout_type       object\n",
      "calories_burned     int64\n",
      "dtype: object\n",
      "==============================\n",
      "object    4\n",
      "dtype: int64\n"
     ]
    }
   ],
   "source": [
    "print(\"Tipo de datos en checkin-checkout history:\")\n",
    "print(checkins_df.dtypes)\n",
    "print(\"=\"*30)\n",
    "print(locations_df.dtypes.value_counts())"
   ]
  },
  {
   "cell_type": "markdown",
   "metadata": {},
   "source": [
    "Valores faltantes y duplicados"
   ]
  },
  {
   "cell_type": "code",
   "execution_count": 9,
   "metadata": {},
   "outputs": [
    {
     "name": "stdout",
     "output_type": "stream",
     "text": [
      "Faltantes en users_df: 0\n",
      "Faltantes en plans_df: 0\n",
      "Faltantes en locations_df: 0\n",
      "Faltantes en checkins_df: 0\n"
     ]
    }
   ],
   "source": [
    "print(\"Faltantes en users_df:\", users_df.isna().sum().sum())\n",
    "print(\"Faltantes en plans_df:\", plans_df.isna().sum().sum())\n",
    "print(\"Faltantes en locations_df:\", locations_df.isna().sum().sum())\n",
    "print(\"Faltantes en checkins_df:\", checkins_df.isna().sum().sum())"
   ]
  },
  {
   "cell_type": "code",
   "execution_count": 10,
   "metadata": {},
   "outputs": [
    {
     "name": "stdout",
     "output_type": "stream",
     "text": [
      "Duplicados en users_df: 0\n",
      "Duplicados en plans_df: 0\n",
      "Duplicados en locations_df: 0\n",
      "Duplicados en checkins_df: 0\n"
     ]
    }
   ],
   "source": [
    "print(\"Duplicados en users_df:\", users_df.duplicated().sum())\n",
    "print(\"Duplicados en plans_df:\", plans_df.duplicated().sum())\n",
    "print(\"Duplicados en locations_df:\", locations_df.duplicated().sum())\n",
    "print(\"Duplicados en checkins_df:\", checkins_df.duplicated().sum())"
   ]
  },
  {
   "cell_type": "markdown",
   "metadata": {},
   "source": [
    "## Limpieza y preprocesamiento"
   ]
  },
  {
   "cell_type": "markdown",
   "metadata": {},
   "source": [
    "Conversión de valirables tipo `object` con valores de fechas a tipo `datetime`."
   ]
  },
  {
   "cell_type": "code",
   "execution_count": 11,
   "metadata": {},
   "outputs": [],
   "source": [
    "# users:\n",
    "users_df[\"birthdate\"]  = pd.to_datetime(users_df[\"birthdate\"])\n",
    "users_df[\"sign_up_date\"]  = pd.to_datetime(users_df[\"sign_up_date\"])\n",
    "\n",
    "# checkin-checkout history:\n",
    "checkins_df[\"checkin_time\"] = pd.to_datetime(checkins_df[\"checkin_time\"])\n",
    "checkins_df[\"checkout_time\"] = pd.to_datetime(checkins_df[\"checkout_time\"])"
   ]
  },
  {
   "cell_type": "markdown",
   "metadata": {},
   "source": [
    "Revisión de variables categóricas."
   ]
  },
  {
   "cell_type": "code",
   "execution_count": 12,
   "metadata": {},
   "outputs": [
    {
     "name": "stdout",
     "output_type": "stream",
     "text": [
      "Genders: ['Female' 'Non-binary' 'Male']\n",
      "Locations: ['Denver' 'Orlando' 'Austin' 'Seattle' 'Atlanta' 'Detroit' 'Miami'\n",
      " 'San Francisco' 'Boston' 'Las Vegas']\n",
      "Plans: ['Basic' 'Pro' 'Student']\n"
     ]
    }
   ],
   "source": [
    "# users\n",
    "print(\"Genders:\",users_df[\"gender\"].unique())\n",
    "print(\"Locations:\", users_df[\"user_location\"].unique())\n",
    "print(\"Plans:\", users_df[\"subscription_plan\"].unique())"
   ]
  },
  {
   "cell_type": "code",
   "execution_count": 13,
   "metadata": {},
   "outputs": [
    {
     "name": "stdout",
     "output_type": "stream",
     "text": [
      "Locations: ['New York' 'Los Angeles' 'Chicago' 'Houston' 'Phoenix' 'Philadelphia'\n",
      " 'San Antonio' 'San Diego' 'Dallas' 'San Jose']\n",
      "Types: ['Premium' 'Budget' 'Standard']\n",
      "Facilities: ['Climbing Wall, Swimming Pool, Basketball Court'\n",
      " 'Climbing Wall, Yoga Classes, Sauna'\n",
      " 'Sauna, Climbing Wall, Swimming Pool'\n",
      " 'Climbing Wall, Basketball Court, Swimming Pool'\n",
      " 'Basketball Court, CrossFit, Swimming Pool'\n",
      " 'Swimming Pool, Climbing Wall, Sauna'\n",
      " 'Sauna, Basketball Court, Swimming Pool'\n",
      " 'Basketball Court, Sauna, CrossFit' 'Sauna, CrossFit, Yoga Classes'\n",
      " 'Swimming Pool, Sauna, CrossFit']\n"
     ]
    }
   ],
   "source": [
    "# locations\n",
    "print(\"Locations:\", locations_df[\"location\"].unique())\n",
    "print(\"Types:\", locations_df[\"gym_type\"].unique())\n",
    "print(\"Facilities:\", locations_df[\"facilities\"].unique())"
   ]
  },
  {
   "cell_type": "code",
   "execution_count": 14,
   "metadata": {},
   "outputs": [
    {
     "data": {
      "text/plain": [
       "array(['Weightlifting', 'Yoga', 'Cardio', 'CrossFit', 'Swimming',\n",
       "       'Pilates'], dtype=object)"
      ]
     },
     "execution_count": 14,
     "metadata": {},
     "output_type": "execute_result"
    }
   ],
   "source": [
    "# history\n",
    "checkins_df[\"workout_type\"].unique()"
   ]
  },
  {
   "cell_type": "markdown",
   "metadata": {},
   "source": [
    "Creación de nuevas variables\n",
    "\n",
    "**users_df**:\n",
    "- `year_subscription`: Año de subscripción del usuario.\n",
    "- `month_subscription`: Mes de subscripción del usuario.\n",
    "- `age_bracket`: Rango/grupo de edades.\n",
    "\n",
    "**checkins_df**:\n",
    "- `workout_time`: Tiempo total entrenado por día (registro).\n",
    "- `hour`: Hora del día en que se registró el checkin.\n",
    "- `day`: Día de la semana en que se registró el checkin.\n",
    "- `month`: Mes en que se registró el checkin."
   ]
  },
  {
   "cell_type": "code",
   "execution_count": 15,
   "metadata": {},
   "outputs": [],
   "source": [
    "# Subscription information\n",
    "users_df[\"year_subscription\"] = users_df[\"sign_up_date\"].dt.year\n",
    "users_df[\"month_subscription\"] = users_df[\"sign_up_date\"].dt.to_period(\"M\")\n",
    "\n",
    "min_age = users_df[\"age\"].min()\n",
    "bins = [min_age, 24, 34, 44, 55, float(\"inf\")]\n",
    "labels = [f\"{min_age}-24\", \"25-34\", \"35-44\", \"45-55\", \"+55\"]\n",
    "users_df[\"age_bracket\"] = pd.cut(users_df[\"age\"], bins=bins, labels=labels)\n",
    "\n",
    "# history\n",
    "checkins_df[\"workout_duration_min\"] = ((checkins_df[\"checkout_time\"] - checkins_df[\"checkin_time\"] ).dt.total_seconds()/60).astype(int)\n",
    "checkins_df[\"hour\"] = checkins_df[\"checkin_time\"].dt.hour\n",
    "checkins_df[\"day\"] = checkins_df[\"checkin_time\"].dt.day_name()\n",
    "checkins_df[\"month\"] = checkins_df[\"checkin_time\"].dt.month_name()"
   ]
  },
  {
   "cell_type": "markdown",
   "metadata": {},
   "source": [
    "Combinamos los DataSets.\n",
    "\n",
    "Relación entre los DataFrames: <br>\n",
    "\n",
    "![GymActivity DB](./imgs/GymActivity_DB.jpg)"
   ]
  },
  {
   "cell_type": "code",
   "execution_count": 16,
   "metadata": {},
   "outputs": [
    {
     "name": "stdout",
     "output_type": "stream",
     "text": [
      "shape: (300000, 21)\n",
      "nulls: 6358\n"
     ]
    },
    {
     "data": {
      "text/plain": [
       "user_id                         object\n",
       "gym_id                          object\n",
       "checkin_time            datetime64[ns]\n",
       "checkout_time           datetime64[ns]\n",
       "workout_type                    object\n",
       "calories_burned                  int64\n",
       "workout_duration_min             int64\n",
       "hour                             int64\n",
       "day                             object\n",
       "month                           object\n",
       "age                              int64\n",
       "gender                          object\n",
       "sign_up_date            datetime64[ns]\n",
       "subscription_plan               object\n",
       "year_subscription                int64\n",
       "month_subscription           period[M]\n",
       "age_bracket                   category\n",
       "price_per_month                float64\n",
       "location                        object\n",
       "gym_type                        object\n",
       "facilities                      object\n",
       "dtype: object"
      ]
     },
     "execution_count": 16,
     "metadata": {},
     "output_type": "execute_result"
    }
   ],
   "source": [
    "users_plans_df = pd.merge(users_df,plans_df,on=['subscription_plan'])\n",
    "# Eliminamos columnas que no necesitamos para el análisis.\n",
    "users_plans_df.drop([\"first_name\", \"last_name\", \"birthdate\", \"features\", \"user_location\"], axis=1, inplace=True)\n",
    "\n",
    "users_checkins = pd.merge(checkins_df, users_plans_df,on=['user_id'])\n",
    "gym_activity_df = pd.merge(users_checkins, locations_df,on=['gym_id'])\n",
    "\n",
    "print(\"shape:\", gym_activity_df.shape)\n",
    "print(\"nulls:\", gym_activity_df.isna().sum().sum())\n",
    "gym_activity_df.dtypes"
   ]
  },
  {
   "cell_type": "markdown",
   "metadata": {},
   "source": [
    "## Análisis de usuarios y subscripciones"
   ]
  },
  {
   "cell_type": "markdown",
   "metadata": {},
   "source": [
    "### 1. Demografía de usuarios"
   ]
  },
  {
   "cell_type": "markdown",
   "metadata": {},
   "source": [
    "**Distribución de las edades de los usuarios**"
   ]
  },
  {
   "cell_type": "code",
   "execution_count": 17,
   "metadata": {},
   "outputs": [
    {
     "data": {
      "image/png": "[encoded data removed]",
      "text/plain": [
       "<Figure size 800x500 with 1 Axes>"
      ]
     },
     "metadata": {},
     "output_type": "display_data"
    }
   ],
   "source": [
    "fig, ax = plt.subplots(figsize=(8,5))\n",
    "sns.histplot(\n",
    "  data=users_plans_df,\n",
    "  x=\"age\",\n",
    "  kde=True,\n",
    "  ax=ax\n",
    ")\n",
    "\n",
    "ax.set_title(\"Distribución de Edades de los Usuarios\")\n",
    "ax.set_xlabel(\"Edad\")\n",
    "ax.set_ylabel(\"Número de Usuarios\")\n",
    "plt.show()"
   ]
  },
  {
   "cell_type": "markdown",
   "metadata": {},
   "source": [
    "**Rango de edad en el que se encuentran el mayor número de usuarios**"
   ]
  },
  {
   "cell_type": "code",
   "execution_count": 18,
   "metadata": {},
   "outputs": [
    {
     "data": {
      "image/png": "[encoded data removed]",
      "text/plain": [
       "<Figure size 800x600 with 1 Axes>"
      ]
     },
     "metadata": {},
     "output_type": "display_data"
    }
   ],
   "source": [
    "fix, ax = plt.subplots(figsize=(8,6))\n",
    "sns.countplot(\n",
    "  users_plans_df, \n",
    "  x=\"age_bracket\"\n",
    ")\n",
    "\n",
    "for p in ax.patches:\n",
    "  ax.text(p.get_x()+p.get_width()/2,  p.get_height(), p.get_height(), ha='center', va='bottom', fontsize=10)\n",
    "\n",
    "ax.set_title(\"Distribución de Usuarios Por Rango de Edad\")\n",
    "ax.set_ylabel(\"Número de Usuarios\")\n",
    "ax.set_xlabel(\"Rango de Edad\");"
   ]
  },
  {
   "cell_type": "markdown",
   "metadata": {},
   "source": [
    "**Observaciones:** La distribución de usuarios según la edad de éstos es uniforme; el segundo gráfico nos permite observar que la máyor cantidad de usuarios suscritos oscilan entre los 45 y 55 años, seguidos de usuarios entre 25 y 44."
   ]
  },
  {
   "cell_type": "markdown",
   "metadata": {},
   "source": [
    "**Proporción de usuarios por género**"
   ]
  },
  {
   "cell_type": "code",
   "execution_count": 19,
   "metadata": {},
   "outputs": [
    {
     "data": {
      "image/png": "[encoded data removed]",
      "text/plain": [
       "<Figure size 800x600 with 1 Axes>"
      ]
     },
     "metadata": {},
     "output_type": "display_data"
    }
   ],
   "source": [
    "gender_counts = users_plans_df[\"gender\"].value_counts()\n",
    "\n",
    "fig, ax = plt.subplots(figsize=(8,6))\n",
    "\n",
    "gender_counts.plot(\n",
    "  kind=\"pie\",\n",
    "  title=\"Proporción de Usuarios por Género\",\n",
    "  autopct=\"%1.1f%%\",\n",
    "  startangle=90,\n",
    "  ylabel=\"Género\",\n",
    "  ax=ax\n",
    ")\n",
    "\n",
    "plt.show()"
   ]
  },
  {
   "cell_type": "markdown",
   "metadata": {},
   "source": [
    "**Observaciones:** Esta cadena de gimnasios cuenta con una distribucion equitativa de usuarios entre hombres y mujeres, y a su vez empieza a darle auge a personas no bianarias, alcanzando así casí el 10% de sus usuarios."
   ]
  },
  {
   "cell_type": "code",
   "execution_count": null,
   "metadata": {},
   "outputs": [],
   "source": []
  }
 ],
 "metadata": {
  "kernelspec": {
   "display_name": "eda_personal_projects",
   "language": "python",
   "name": "python3"
  },
  "language_info": {
   "codemirror_mode": {
    "name": "ipython",
    "version": 3
   },
   "file_extension": ".py",
   "mimetype": "text/x-python",
   "name": "python",
   "nbconvert_exporter": "python",
   "pygments_lexer": "ipython3",
   "version": "3.7.16"
  }
 },
 "nbformat": 4,
 "nbformat_minor": 2
}
